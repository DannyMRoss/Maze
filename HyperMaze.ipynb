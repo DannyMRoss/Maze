{
 "cells": [
  {
   "cell_type": "markdown",
   "id": "0fbed7ed",
   "metadata": {},
   "source": [
    "Daniel Ross  \n",
    "October, 2022  \n",
    "HyperMaze"
   ]
  },
  {
   "cell_type": "code",
   "execution_count": 99,
   "id": "3188deb4",
   "metadata": {},
   "outputs": [],
   "source": [
    "import pandas as pd\n",
    "import numpy as np\n",
    "import random\n",
    "\n",
    "import igraph as ig\n",
    "\n",
    "import matplotlib.pyplot as plt\n",
    "from matplotlib.pyplot import figure\n",
    "from mpl_toolkits.mplot3d import Axes3D\n",
    "from mpl_toolkits.mplot3d.art3d import Poly3DCollection, Line3DCollection"
   ]
  },
  {
   "cell_type": "code",
   "execution_count": 101,
   "id": "5f7575d5",
   "metadata": {},
   "outputs": [],
   "source": [
    "m1 = HyperMaze(3)"
   ]
  },
  {
   "cell_type": "code",
   "execution_count": 102,
   "id": "e4c0053a",
   "metadata": {},
   "outputs": [],
   "source": [
    "m1.buildMaze()"
   ]
  },
  {
   "cell_type": "code",
   "execution_count": 103,
   "id": "60b05eae",
   "metadata": {},
   "outputs": [],
   "source": [
    "m1.plot()"
   ]
  },
  {
   "cell_type": "code",
   "execution_count": 100,
   "id": "855a6ed6",
   "metadata": {},
   "outputs": [],
   "source": [
    "class HyperMaze:\n",
    "    \"\"\"Hyper Maze Class\"\"\"\n",
    "    \n",
    "    def __init__(self, dim):\n",
    "        self.dim = dim\n",
    "        self.g = ig.Graph.Lattice([dim,dim,dim], circular=False)\n",
    "        self.g_vertex_df = pd.DataFrame()\n",
    "        self.g_edge_df = pd.DataFrame()\n",
    "        self.wall_df = pd.DataFrame()\n",
    "      \n",
    "    def buildMaze(self):\n",
    "        self.g.es[\"weight\"] = [random.randint(1, 77) for _ in self.g.es]\n",
    "        \n",
    "        mst = self.g.spanning_tree(weights=self.g.es[\"weight\"], return_tree=False)\n",
    "    \n",
    "        self.g_vertex_df = self.g.get_vertex_dataframe()\n",
    "        self.g_vertex_df.index.names = ['vertexid']\n",
    "        self.g_vertex_df['vertex'] = self.g_vertex_df.index\n",
    "        \n",
    "        def get_x(v, d): return v % d\n",
    "    \n",
    "        def get_y(v, d): return (v // d) % d\n",
    "\n",
    "        def get_z(v, d): \n",
    "            for i in range(d): \n",
    "                if v < ((d**2) * (i+1)): \n",
    "                    return i\n",
    "                \n",
    "        def get_cartesian_coords(v, d):\n",
    "            x = get_x(v, d)\n",
    "            y = get_y(v, d)\n",
    "            z = get_z(v, d)\n",
    "            return (x, y, z)\n",
    "                \n",
    "        self.g_vertex_df['x'] = self.g_vertex_df['vertex'].apply(get_x, d=self.dim)\n",
    "        self.g_vertex_df['y'] = self.g_vertex_df['vertex'].apply(get_y, d=self.dim)\n",
    "        self.g_vertex_df['z'] = self.g_vertex_df['vertex'].apply(get_z, d=self.dim)\n",
    "        \n",
    "        self.g_edge_df = pd.DataFrame(self.g.get_edge_dataframe())\n",
    "        self.g_edge_df.index.names = ['edge']\n",
    "        self.g_edge_df.columns = ['a', 'b', 'w']\n",
    "        self.g_edge_df[\"ab\"] = list(zip(self.g_edge_df['a'], self.g_edge_df['b']))\n",
    "        \n",
    "        self.g_edge_df['mst'] = self.g_edge_df.index.isin(mst)\n",
    "\n",
    "        mst_edges = self.g_edge_df.loc[self.g_edge_df['mst'], ['a', 'b']]\n",
    "        mst_edges = list(zip(mst_edges['a'], mst_edges['b']))\n",
    "        \n",
    "        sp = ig.Graph([self.dim, self.dim, self.dim], edges=mst_edges)\n",
    "        shortest_path = sp.get_shortest_paths(0,(self.dim**3)-1, output=\"epath\")\n",
    "        \n",
    "        sp_edge_df = sp.get_edge_dataframe()\n",
    "        sp_edge_df['path'] = sp_edge_df.index.isin(shortest_path[0])\n",
    "        sp_edge_df = sp_edge_df.loc[sp_edge_df['path'],:]\n",
    "\n",
    "        sp_edge_df['ab'] = list(zip(sp_edge_df['source'], sp_edge_df['target']))\n",
    "        sp_verts = list(sp_edge_df['ab'])\n",
    "\n",
    "        def in_sp(v): return v in sp_verts\n",
    "\n",
    "        self.g_edge_df['path'] = self.g_edge_df['ab'].apply(in_sp)\n",
    "\n",
    "        self.g_edge_df['a_xyz'] = self.g_edge_df['a'].apply(get_cartesian_coords, d=self.dim)\n",
    "        self.g_edge_df['b_xyz'] = self.g_edge_df['b'].apply(get_cartesian_coords, d=self.dim)\n",
    "        self.g_edge_df['ab_xyz'] = list(zip(self.g_edge_df['a_xyz'], self.g_edge_df['b_xyz']))\n",
    "        \n",
    "        def wall_verts(v):\n",
    "            if v[0][0] != v[1][0]:\n",
    "                x = [(v[0][0] + v[1][0])/2] * 4\n",
    "                y = [v[0][1] - .5, v[1][1] + .5]\n",
    "                y=y+y[::-1]\n",
    "                z = [v[0][2] + .5]*2 + [v[1][2] - .5]*2\n",
    "            elif v[0][1] != v[1][1]:\n",
    "                x= [v[0][0] - .5, v[1][0] + .5]\n",
    "                x=x+x[::-1]\n",
    "                y = [(v[0][1] + v[1][1])/2]*4\n",
    "                z = [v[0][2] + .5]*2 + [v[1][2] - .5]*2\n",
    "            else:\n",
    "                x= [v[0][0] - .5, v[1][0] + .5]\n",
    "                x=x+x[::-1]\n",
    "                y = [v[0][1] - .5]*2 + [v[1][1] + .5]*2     \n",
    "                z = [(v[0][2] + v[1][2])/2]*4\n",
    "            #coord = np.array(np.meshgrid(x,y,z)).T.reshape(-1,3)\n",
    "            #coord = list(map(tuple,coord))\n",
    "            return list(zip(x,y,z))\n",
    "        \n",
    "        self.g_edge_df['wall'] = self.g_edge_df['ab_xyz'].apply(wall_verts)\n",
    "\n",
    "        self.wall_df = self.g_edge_df.loc[self.g_edge_df['mst']==False, 'wall']\n",
    "        \n",
    "    def plot(self, in_notebook=False,\n",
    "                   title=\"default\",\n",
    "                   mst_color=\"purple\", sp_color=\"forestgreen\", \n",
    "                   v_color=\"purple\", vgoals_color=\"forestgreen\", \n",
    "                   v_size=10, vgoals_size=50,\n",
    "                   wall_face_color = \"grey\",\n",
    "                   wall_edge_color = \"black\"):\n",
    "        \n",
    "        if title==\"default\":\n",
    "            title = \"HyperMaze\" + str(self.dim) + \"x\" + str(self.dim)\n",
    "            \n",
    "        self.g_edge_df['color'] = \"white\"\n",
    "        self.g_edge_df.loc[self.g_edge_df['mst'], 'color'] = mst_color\n",
    "        self.g_edge_df.loc[self.g_edge_df['path'], 'color'] = sp_color\n",
    "\n",
    "        self.g_vertex_df['vcolor'] = v_color\n",
    "        self.g_vertex_df.loc[[0,len(self.g_vertex_df)-1], 'vcolor'] = vgoals_color\n",
    "        self.g_vertex_df['vsize'] = v_size\n",
    "        self.g_vertex_df.loc[[0,len(self.g_vertex_df)-1], 'vsize'] = vgoals_size\n",
    "\n",
    "        wall_color = wall_face_color\n",
    "        wall_edge_color = wall_edge_color\n",
    "        \n",
    "        if in_notebook:\n",
    "            %matplotlib notebook\n",
    "        else:\n",
    "            %matplotlib qt\n",
    "        \n",
    "        fig = plt.figure(title)\n",
    "        ax = fig.add_subplot(projection='3d')\n",
    "\n",
    "        ax.set_axis_off()\n",
    "        plt.tight_layout()\n",
    "\n",
    "        ax.scatter(self.g_vertex_df['x'], self.g_vertex_df['y'], self.g_vertex_df['z'], \n",
    "                   c=self.g_vertex_df['vcolor'], \n",
    "                   s=self.g_vertex_df['vsize'])\n",
    "\n",
    "        ax.add_collection3d(Line3DCollection(np.array(self.g_edge_df.loc[self.g_edge_df['mst'],'ab_xyz']),\n",
    "                                             colors=self.g_edge_df.loc[self.g_edge_df['mst'],'color']))\n",
    "\n",
    "        walls = ax.add_collection3d(Poly3DCollection(list(self.wall_df), linewidths=1, alpha=0.2))\n",
    "        walls.set_facecolor(wall_color)\n",
    "        walls.set_edgecolor(wall_edge_color)\n",
    "        ax.add_collection3d(walls)\n",
    "\n",
    "        ax.set_xlim([-(self.dim),(self.dim)])\n",
    "        ax.set_ylim([-(self.dim),(self.dim)])\n",
    "        ax.set_zlim([-(self.dim),(self.dim)])"
   ]
  },
  {
   "cell_type": "code",
   "execution_count": 39,
   "id": "d4b973df",
   "metadata": {},
   "outputs": [],
   "source": [
    "dim = 4"
   ]
  },
  {
   "cell_type": "code",
   "execution_count": 40,
   "id": "4cecea49",
   "metadata": {},
   "outputs": [],
   "source": [
    "g = ig.Graph.Lattice([dim,dim,dim], circular=False)"
   ]
  },
  {
   "cell_type": "code",
   "execution_count": 41,
   "id": "dec1ff8e",
   "metadata": {},
   "outputs": [],
   "source": [
    "g.es[\"weight\"] = [random.randint(1, 77) for _ in g.es]"
   ]
  },
  {
   "cell_type": "code",
   "execution_count": 42,
   "id": "7cccef1d",
   "metadata": {},
   "outputs": [],
   "source": [
    "mst = g.spanning_tree(weights=g.es[\"weight\"], return_tree=False)"
   ]
  },
  {
   "cell_type": "code",
   "execution_count": 43,
   "id": "fea3368c",
   "metadata": {},
   "outputs": [],
   "source": [
    "g_vertex_df = g.get_vertex_dataframe()\n",
    "g_vertex_df.index.names = ['vertexid']\n",
    "g_vertex_df['vertex'] = g_vertex_df.index"
   ]
  },
  {
   "cell_type": "code",
   "execution_count": 44,
   "id": "a14863fb",
   "metadata": {},
   "outputs": [],
   "source": [
    "def get_x(v):\n",
    "    return v % dim\n",
    "\n",
    "def get_y(v):\n",
    "    return (v // dim) % dim\n",
    "\n",
    "def get_z(v):\n",
    "    for i in range(dim):\n",
    "        if v < ((dim**2) * (i+1)):\n",
    "            return i\n",
    "\n",
    "def get_cartesian_coords(v):\n",
    "    x = get_x(v)\n",
    "    y = get_y(v)\n",
    "    z = get_z(v)\n",
    "    return (x, y, z)"
   ]
  },
  {
   "cell_type": "code",
   "execution_count": 45,
   "id": "794b8bfc",
   "metadata": {},
   "outputs": [],
   "source": [
    "g_vertex_df['x'] = g_vertex_df['vertex'].apply(get_x)\n",
    "g_vertex_df['y'] = g_vertex_df['vertex'].apply(get_y)\n",
    "g_vertex_df['z'] = g_vertex_df['vertex'].apply(get_z)\n",
    "g_vertex_df['xyz'] = g_vertex_df['vertex'].apply(get_cartesian_coords)"
   ]
  },
  {
   "cell_type": "code",
   "execution_count": 46,
   "id": "594d884f",
   "metadata": {},
   "outputs": [],
   "source": [
    "g_edge_df = pd.DataFrame(g.get_edge_dataframe())\n",
    "g_edge_df.index.names = ['edge']\n",
    "g_edge_df.columns = ['a', 'b', 'w']\n",
    "g_edge_df[\"ab\"] = list(zip(g_edge_df['a'], g_edge_df['b']))"
   ]
  },
  {
   "cell_type": "code",
   "execution_count": 47,
   "id": "45c44769",
   "metadata": {},
   "outputs": [],
   "source": [
    "g_edge_df['mst'] = g_edge_df.index.isin(mst)\n",
    "\n",
    "mst_edges = g_edge_df.loc[g_edge_df['mst'], ['a', 'b']]\n",
    "mst_edges = list(zip(mst_edges['a'], mst_edges['b']))\n",
    "sp = ig.Graph([dim, dim, dim], edges=mst_edges)\n",
    "shortest_path = sp.get_shortest_paths(0,(dim**3)-1, output=\"epath\")\n",
    "\n",
    "sp_edge_df = sp.get_edge_dataframe()\n",
    "sp_edge_df['path'] = sp_edge_df.index.isin(shortest_path[0])\n",
    "sp_edge_df = sp_edge_df.loc[sp_edge_df['path'],:]\n",
    "\n",
    "sp_edge_df['ab'] = list(zip(sp_edge_df['source'], sp_edge_df['target']))\n",
    "\n",
    "sp_verts = list(sp_edge_df['ab'])\n",
    "\n",
    "def in_sp(v): \n",
    "    return v in sp_verts\n",
    "\n",
    "g_edge_df['path'] = g_edge_df['ab'].apply(in_sp)\n",
    "\n",
    "g_edge_df['a_xyz'] = g_edge_df['a'].apply(get_cartesian_coords)\n",
    "g_edge_df['b_xyz'] = g_edge_df['b'].apply(get_cartesian_coords)\n",
    "g_edge_df['ab_xyz'] = list(zip(g_edge_df['a_xyz'], g_edge_df['b_xyz']))"
   ]
  },
  {
   "cell_type": "code",
   "execution_count": 50,
   "id": "ddb66a5c",
   "metadata": {},
   "outputs": [],
   "source": [
    "g_edge_df['color'] = \"white\"\n",
    "g_edge_df.loc[g_edge_df['mst'], 'color'] = \"purple\"\n",
    "g_edge_df.loc[g_edge_df['path'], 'color'] = \"forestgreen\"\n",
    "\n",
    "g_vertex_df['vcolor'] = \"purple\"\n",
    "g_vertex_df.loc[[0,len(g_vertex_df)-1], 'vcolor'] = \"forestgreen\"\n",
    "g_vertex_df['vsize'] = 10\n",
    "g_vertex_df.loc[[0,len(g_vertex_df)-1], 'vsize'] = 50\n",
    "\n",
    "wall_color = \"grey\"\n",
    "wall_edge_color = \"black\""
   ]
  },
  {
   "cell_type": "code",
   "execution_count": 51,
   "id": "13b292f8",
   "metadata": {},
   "outputs": [],
   "source": [
    "def wall_verts(v):\n",
    "    if v[0][0] != v[1][0]:\n",
    "        x = [(v[0][0] + v[1][0])/2] * 4\n",
    "        y = [v[0][1] - .5, v[1][1] + .5]\n",
    "        y=y+y[::-1]\n",
    "        z = [v[0][2] + .5]*2 + [v[1][2] - .5]*2\n",
    "    elif v[0][1] != v[1][1]:\n",
    "        x= [v[0][0] - .5, v[1][0] + .5]\n",
    "        x=x+x[::-1]\n",
    "        y = [(v[0][1] + v[1][1])/2]*4\n",
    "        z = [v[0][2] + .5]*2 + [v[1][2] - .5]*2\n",
    "    else:\n",
    "        x= [v[0][0] - .5, v[1][0] + .5]\n",
    "        x=x+x[::-1]\n",
    "        y = [v[0][1] - .5]*2 + [v[1][1] + .5]*2     \n",
    "        z = [(v[0][2] + v[1][2])/2]*4\n",
    "        \n",
    "    #coord = np.array(np.meshgrid(x,y,z)).T.reshape(-1,3)\n",
    "    #coord = list(map(tuple,coord))\n",
    "    \n",
    "    return list(zip(x,y,z))"
   ]
  },
  {
   "cell_type": "code",
   "execution_count": 52,
   "id": "eb830aae",
   "metadata": {},
   "outputs": [],
   "source": [
    "g_edge_df['wall'] = g_edge_df['ab_xyz'].apply(wall_verts)\n",
    "\n",
    "wall_df = g_edge_df.loc[g_edge_df['mst']==False, 'wall']"
   ]
  },
  {
   "cell_type": "code",
   "execution_count": 53,
   "id": "4c153803",
   "metadata": {},
   "outputs": [
    {
     "data": {
      "text/plain": [
       "(-4.0, 4.0)"
      ]
     },
     "execution_count": 53,
     "metadata": {},
     "output_type": "execute_result"
    }
   ],
   "source": [
    "fig = plt.figure((\"Hyper Maze \" + str(dim) + \"x\" + str(dim)))\n",
    "ax = fig.add_subplot(projection='3d')\n",
    "\n",
    "ax.set_axis_off()\n",
    "plt.tight_layout()\n",
    "\n",
    "ax.scatter(g_vertex_df['x'], g_vertex_df['y'], g_vertex_df['z'], \n",
    "           c=g_vertex_df['vcolor'], \n",
    "           s=g_vertex_df['vsize'])\n",
    "\n",
    "ax.add_collection3d(Line3DCollection(np.array(g_edge_df.loc[g_edge_df['mst'],'ab_xyz']),\n",
    "                                     colors=g_edge_df.loc[g_edge_df['mst'],'color']))\n",
    "\n",
    "walls = ax.add_collection3d(Poly3DCollection(list(wall_df), linewidths=1, alpha=0.2))\n",
    "walls.set_facecolor(wall_color)\n",
    "walls.set_edgecolor(wall_edge_color)\n",
    "ax.add_collection3d(walls)\n",
    "\n",
    "ax.set_xlim([-(dim),(dim)])\n",
    "ax.set_ylim([-(dim),(dim)])\n",
    "ax.set_zlim([-(dim),(dim)])"
   ]
  }
 ],
 "metadata": {
  "kernelspec": {
   "display_name": "Python 3 (ipykernel)",
   "language": "python",
   "name": "python3"
  },
  "language_info": {
   "codemirror_mode": {
    "name": "ipython",
    "version": 3
   },
   "file_extension": ".py",
   "mimetype": "text/x-python",
   "name": "python",
   "nbconvert_exporter": "python",
   "pygments_lexer": "ipython3",
   "version": "3.9.12"
  }
 },
 "nbformat": 4,
 "nbformat_minor": 5
}
